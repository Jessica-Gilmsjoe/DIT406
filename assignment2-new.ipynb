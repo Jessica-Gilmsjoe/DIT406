{
 "cells": [
  {
   "cell_type": "code",
   "execution_count": null,
   "id": "5f2831a8",
   "metadata": {},
   "outputs": [],
   "source": [
    "import numpy as np\n",
    "import pandas as pd\n",
    "import matplotlib.pyplot as plt\n",
    "import seaborn as sns\n",
    "from sklearn import linear_model\n",
    "from sklearn.linear_model import LinearRegression\n",
    "from sklearn.linear_model import LogisticRegression\n",
    "from sklearn.model_selection import train_test_split\n",
    "from sklearn.neighbors import KNeighborsClassifier\n",
    "from sklearn.metrics import confusion_matrix, plot_confusion_matrix"
   ]
  },
  {
   "cell_type": "markdown",
   "id": "ba014455",
   "metadata": {},
   "source": [
    "# Part 1"
   ]
  },
  {
   "cell_type": "code",
   "execution_count": null,
   "id": "08a09872",
   "metadata": {
    "scrolled": true
   },
   "outputs": [],
   "source": [
    "# Load data\n",
    "houses = pd.read_csv(\"data_assignment2.csv\")\n",
    "houses"
   ]
  },
  {
   "cell_type": "code",
   "execution_count": null,
   "id": "7eff08be",
   "metadata": {},
   "outputs": [],
   "source": [
    "# Scatter plot living area vs prices\n",
    "plt.scatter(houses[['Living_area']], houses[['Selling_price']],  c = 'b', s = 50, alpha = 0.4)\n",
    "plt.title('Scatterplot')\n",
    "plt.xlabel('Living area')\n",
    "plt.ylabel('Selling price (million)')\n",
    "plt.show()"
   ]
  },
  {
   "cell_type": "code",
   "execution_count": null,
   "id": "5d93dcd9",
   "metadata": {},
   "outputs": [],
   "source": [
    "# Check for NaN\n",
    "houses[['Living_area','Selling_price']].isnull().values.any()"
   ]
  },
  {
   "cell_type": "code",
   "execution_count": null,
   "id": "81c52e47",
   "metadata": {},
   "outputs": [],
   "source": [
    "# Fit linear regression model area and price\n",
    "model = LinearRegression().fit(houses[['Living_area']], houses[['Selling_price']])"
   ]
  },
  {
   "cell_type": "code",
   "execution_count": null,
   "id": "7485b72a",
   "metadata": {
    "scrolled": true
   },
   "outputs": [],
   "source": [
    "# Plot data and fit\n",
    "xfit=np.linspace(min(houses['Living_area']),max(houses['Living_area']), 1000) #1000 evenly spaced points in [0, 55].\n",
    "yfit=model.predict(xfit[:, np.newaxis])\n",
    "plt.scatter(houses[['Living_area']], houses[['Selling_price']], c = 'b', s = 50, alpha = 0.4)\n",
    "plt.plot(xfit, yfit)\n",
    "plt.title('Regression line')\n",
    "plt.xlabel('Living area')\n",
    "plt.ylabel('Selling price (million)')\n",
    "plt.show()"
   ]
  },
  {
   "cell_type": "code",
   "execution_count": null,
   "id": "f0a24fdf",
   "metadata": {},
   "outputs": [],
   "source": [
    "# Residual plot\n",
    "pred_price = model.predict(houses[['Living_area']])\n",
    "residuals = pred_price - houses[['Selling_price']]\n",
    "plt.scatter(pred_price, residuals, c = 'b', s = 50, alpha = 0.4)\n",
    "plt.hlines(y = 0, xmin = 3400000, xmax = 6500000)\n",
    "plt.title('Residual plot')\n",
    "plt.ylabel('Residuals')"
   ]
  },
  {
   "cell_type": "code",
   "execution_count": null,
   "id": "cfe36390",
   "metadata": {},
   "outputs": [],
   "source": [
    "# Extract indicies of outliers > |1 700 00|\n",
    "outliers_ind = residuals[abs(residuals) > 1700000].dropna()\n",
    "outliers_ind = outliers_ind.index\n",
    "outliers_ind"
   ]
  },
  {
   "cell_type": "code",
   "execution_count": null,
   "id": "c7489df3",
   "metadata": {},
   "outputs": [],
   "source": [
    "# Remove indicies from data\n",
    "houses = houses.drop(houses.index[outliers_ind])\n",
    "houses"
   ]
  },
  {
   "cell_type": "code",
   "execution_count": null,
   "id": "a9881653",
   "metadata": {},
   "outputs": [],
   "source": [
    "# New model linear regression area and price\n",
    "model = LinearRegression().fit(houses[['Living_area']], houses[['Selling_price']])"
   ]
  },
  {
   "cell_type": "code",
   "execution_count": null,
   "id": "fdd0cf48",
   "metadata": {},
   "outputs": [],
   "source": [
    "# Scatter plot of data and fitted model\n",
    "xfit=np.linspace(min(houses['Living_area']),max(houses['Living_area']), 1000) #1000 evenly spaced points in [0, 55].\n",
    "yfit=model.predict(xfit[:, np.newaxis])\n",
    "plt.scatter(houses[['Living_area']], houses[['Selling_price']], c = 'b', s = 50, alpha = 0.4)\n",
    "plt.plot(xfit, yfit)\n",
    "plt.title('Regression line')\n",
    "plt.xlabel('Living area')\n",
    "plt.ylabel('Selling price (million)')\n",
    "plt.show()"
   ]
  },
  {
   "cell_type": "code",
   "execution_count": null,
   "id": "069c4856",
   "metadata": {},
   "outputs": [],
   "source": [
    "# Slope\n",
    "print(model.coef_)\n",
    "\n",
    "# Intersection\n",
    "print(model.intercept_)"
   ]
  },
  {
   "cell_type": "code",
   "execution_count": null,
   "id": "d8939660",
   "metadata": {},
   "outputs": [],
   "source": [
    "# Output of predictions: area 100^2, 150^2 and 200^2 \n",
    "print(model.predict([[100]]))\n",
    "print(model.predict([[150]]))\n",
    "print(model.predict([[200]]))"
   ]
  },
  {
   "cell_type": "code",
   "execution_count": null,
   "id": "d5aee0a9",
   "metadata": {},
   "outputs": [],
   "source": [
    "# Residual plot new model\n",
    "pred_price = model.predict(houses[['Living_area']])\n",
    "residuals = pred_price - houses[['Selling_price']]\n",
    "plt.scatter(pred_price, residuals, c = 'b', s = 50, alpha = 0.4)\n",
    "plt.hlines(y = 0, xmin = 3000000, xmax = 7200000)\n",
    "plt.title('Residual plot')\n",
    "plt.ylabel('Residuals')\n"
   ]
  },
  {
   "cell_type": "markdown",
   "id": "fe3dda64",
   "metadata": {},
   "source": [
    "# Part 2"
   ]
  },
  {
   "cell_type": "code",
   "execution_count": null,
   "id": "ae497c46",
   "metadata": {},
   "outputs": [],
   "source": [
    "# load iris data and create dataframe\n",
    "from sklearn.datasets import load_iris\n",
    "iris_raw = load_iris()\n",
    "iris_raw"
   ]
  },
  {
   "cell_type": "code",
   "execution_count": null,
   "id": "101ced05",
   "metadata": {},
   "outputs": [],
   "source": [
    "# Split into trainging and test sets\n",
    "x_train, x_test, y_train, y_test = train_test_split(iris_raw.data, \n",
    "                                                    iris_raw.target, \n",
    "                                                    test_size=0.25, random_state=0)\n",
    "\n",
    "logReg = LogisticRegression(multi_class='ovr', solver='liblinear')\n",
    "\n",
    "# Fit logistic regression model to training data\n",
    "logReg_model = logReg.fit(x_train, y_train)\n",
    "\n",
    "targets=['Setosa','Vercicolor', 'Virginica']\n",
    "\n",
    "# PLot confusion matrix\n",
    "fig = plt.figure()\n",
    "plot_confusion_matrix(logReg_model,x_test,y_test, cmap='Blues', display_labels=targets)\n",
    "plt.title('Confusion matrix logistic regression')"
   ]
  },
  {
   "cell_type": "code",
   "execution_count": null,
   "id": "e8af8339",
   "metadata": {},
   "outputs": [],
   "source": [
    "# Knn different k, uniform weights\n",
    "knn_n_values = [1, 6, 11, 23]\n",
    "knn_uniform = [KNeighborsClassifier(n_neighbors=n, weights='uniform') for n in knn_n_values]\n",
    "\n",
    "for c_uniform in knn_uniform:\n",
    "    c_uniform.fit(x_train, y_train)"
   ]
  },
  {
   "cell_type": "code",
   "execution_count": null,
   "id": "23a79196",
   "metadata": {},
   "outputs": [],
   "source": [
    "# Confusion matrix\n",
    "fig, axes = plt.subplots(nrows=2, ncols=2, figsize=(15,10))\n",
    "\n",
    "for c_uniform, ax in zip(knn_uniform, axes.flatten()):\n",
    "    plot_confusion_matrix(c_uniform, x_test, y_test, ax=ax, cmap='Blues',display_labels=['Setosa','Vercicolor', 'Virginica'])\n",
    "    ax.set_title('Neighbors = '+str(c_uniform.n_neighbors))\n",
    "\n",
    "plt.tight_layout()  \n",
    "fig.suptitle('KNN classifiers with uniform weights')\n",
    "plt.show()"
   ]
  },
  {
   "cell_type": "code",
   "execution_count": null,
   "id": "ca31f6a6",
   "metadata": {},
   "outputs": [],
   "source": [
    "# Knn different k, distance weights\n",
    "knn_distance = [KNeighborsClassifier(n_neighbors=n, weights='distance') for n in knn_n_values]\n",
    "                \n",
    "for c_distance in knn_distance:\n",
    "    c_distance.fit(x_train, y_train)"
   ]
  },
  {
   "cell_type": "code",
   "execution_count": null,
   "id": "eb05a86b",
   "metadata": {},
   "outputs": [],
   "source": [
    "# Confusion matrix\n",
    "fig, axes = plt.subplots(nrows=2, ncols=2, figsize=(15,10))\n",
    "\n",
    "for c_distance, ax in zip(knn_distance, axes.flatten()):\n",
    "    plot_confusion_matrix(c_distance, x_test, y_test, ax=ax, cmap='Blues',display_labels=['Setosa','Vercicolor', 'Virginica'])\n",
    "    ax.set_title('Neighbors = '+str(c_distance.n_neighbors))\n",
    "plt.tight_layout()  \n",
    "fig.suptitle('KNN classifiers with distance weights')\n",
    "plt.show()"
   ]
  },
  {
   "cell_type": "code",
   "execution_count": null,
   "id": "359f3d4c",
   "metadata": {},
   "outputs": [],
   "source": [
    "from sklearn import metrics"
   ]
  },
  {
   "cell_type": "code",
   "execution_count": null,
   "id": "ee6cfc32",
   "metadata": {},
   "outputs": [],
   "source": [
    "test_log_reg_pred = logReg_model.predict(x_test)\n",
    "test_knn_uni_pred = [knn_uniform[i].predict(x_test) for i in range(4)]\n",
    "test_knn_dist_pred = [knn_distance[i].predict(x_test) for i in range(4)]"
   ]
  },
  {
   "cell_type": "code",
   "execution_count": null,
   "id": "2c2eae4d",
   "metadata": {},
   "outputs": [],
   "source": [
    "def get_metrics(prediction, average=None):\n",
    "    accuracy = metrics.accuracy_score(y_test, prediction)\n",
    "    precision = metrics.precision_score(y_test, prediction, average=average)\n",
    "    f_score = metrics.f1_score(y_test, prediction, average=average)\n",
    "    recall = metrics.recall_score(y_test, prediction, average=average)\n",
    "    \n",
    "    return (accuracy,), precision, f_score, recall"
   ]
  },
  {
   "cell_type": "code",
   "execution_count": null,
   "id": "be8b104f",
   "metadata": {},
   "outputs": [],
   "source": [
    "metrics_log_reg = get_metrics(test_log_reg_pred)\n",
    "metrics_log_reg"
   ]
  },
  {
   "cell_type": "code",
   "execution_count": null,
   "id": "098fb080",
   "metadata": {},
   "outputs": [],
   "source": [
    "metrics_knn_uni = [get_metrics(test_knn_uni_pred[i]) for i in range(4)]\n",
    "metrics_knn_uni"
   ]
  },
  {
   "cell_type": "code",
   "execution_count": null,
   "id": "3902e46f",
   "metadata": {},
   "outputs": [],
   "source": [
    "metrics_knn_dist = [get_metrics(test_knn_dist_pred[i]) for i in range(4)]\n",
    "metrics_knn_dist"
   ]
  },
  {
   "cell_type": "code",
   "execution_count": null,
   "id": "d11addf0",
   "metadata": {},
   "outputs": [],
   "source": [
    "def metrics_to_dataframe_single(metrics):\n",
    "    df = pd.DataFrame(data=metrics, index=[\"Accuracy\", \"Precision\", \"F-score\", \"Recall\"], columns=targets)\n",
    "    df = df.T.fillna(method=\"ffill\")\n",
    "    return df"
   ]
  },
  {
   "cell_type": "code",
   "execution_count": null,
   "id": "4d25d6b0",
   "metadata": {},
   "outputs": [],
   "source": [
    "def metrics_to_dataframe_multi(metrics):\n",
    "    frame = [metrics_to_dataframe_single(metric) for metric in metrics]\n",
    "    comb = pd.concat({i:v for i,v in zip(knn_n_values, frame)}, axis=0)\n",
    "    return comb"
   ]
  },
  {
   "cell_type": "code",
   "execution_count": null,
   "id": "f2e8501a",
   "metadata": {
    "scrolled": true
   },
   "outputs": [],
   "source": [
    "metrics_to_dataframe_single(metrics_log_reg)"
   ]
  },
  {
   "cell_type": "code",
   "execution_count": null,
   "id": "8bab8f05",
   "metadata": {},
   "outputs": [],
   "source": [
    "metrics_to_dataframe_multi(metrics_knn_uni)"
   ]
  },
  {
   "cell_type": "code",
   "execution_count": null,
   "id": "5eb95682",
   "metadata": {},
   "outputs": [],
   "source": [
    "metrics_to_dataframe_multi(metrics_knn_dist)"
   ]
  },
  {
   "cell_type": "code",
   "execution_count": null,
   "id": "376c2322",
   "metadata": {},
   "outputs": [],
   "source": []
  }
 ],
 "metadata": {
  "kernelspec": {
   "display_name": "Python 3",
   "language": "python",
   "name": "python3"
  },
  "language_info": {
   "codemirror_mode": {
    "name": "ipython",
    "version": 3
   },
   "file_extension": ".py",
   "mimetype": "text/x-python",
   "name": "python",
   "nbconvert_exporter": "python",
   "pygments_lexer": "ipython3",
   "version": "3.8.8"
  }
 },
 "nbformat": 4,
 "nbformat_minor": 5
}
